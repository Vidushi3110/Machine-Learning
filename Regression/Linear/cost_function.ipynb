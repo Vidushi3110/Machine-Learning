{
  "nbformat": 4,
  "nbformat_minor": 0,
  "metadata": {
    "colab": {
      "provenance": [],
      "authorship_tag": "ABX9TyP9o6p0Etr9DH+jFw3eiVtF",
      "include_colab_link": true
    },
    "kernelspec": {
      "name": "python3",
      "display_name": "Python 3"
    },
    "language_info": {
      "name": "python"
    },
    "widgets": {
      "application/vnd.jupyter.widget-state+json": {
        "ab91dd0ec2cb45ee8bae114a81bc9cd8": {
          "model_module": "@jupyter-widgets/controls",
          "model_name": "VBoxModel",
          "model_module_version": "1.5.0",
          "state": {
            "_dom_classes": [
              "widget-interact"
            ],
            "_model_module": "@jupyter-widgets/controls",
            "_model_module_version": "1.5.0",
            "_model_name": "VBoxModel",
            "_view_count": null,
            "_view_module": "@jupyter-widgets/controls",
            "_view_module_version": "1.5.0",
            "_view_name": "VBoxView",
            "box_style": "",
            "children": [
              "IPY_MODEL_8b093c34fb864473b1f16e553961c6bc",
              "IPY_MODEL_7a0cdd2ccabf4b89a672c20b36d4c70e",
              "IPY_MODEL_bfba06e9a8fb404094fe1f00dada0491"
            ],
            "layout": "IPY_MODEL_e1589a2ab6e04b8f8d1e6456815dd546"
          }
        },
        "8b093c34fb864473b1f16e553961c6bc": {
          "model_module": "@jupyter-widgets/controls",
          "model_name": "FloatSliderModel",
          "model_module_version": "1.5.0",
          "state": {
            "_dom_classes": [],
            "_model_module": "@jupyter-widgets/controls",
            "_model_module_version": "1.5.0",
            "_model_name": "FloatSliderModel",
            "_view_count": null,
            "_view_module": "@jupyter-widgets/controls",
            "_view_module_version": "1.5.0",
            "_view_name": "FloatSliderView",
            "continuous_update": true,
            "description": "w:",
            "description_tooltip": null,
            "disabled": false,
            "layout": "IPY_MODEL_970e801f222f4c31806b02d395baf6f1",
            "max": 10,
            "min": -10,
            "orientation": "horizontal",
            "readout": true,
            "readout_format": ".2f",
            "step": 0.1,
            "style": "IPY_MODEL_f4ff21515d45480a9694f277b02d3c8b",
            "value": 2
          }
        },
        "7a0cdd2ccabf4b89a672c20b36d4c70e": {
          "model_module": "@jupyter-widgets/controls",
          "model_name": "FloatSliderModel",
          "model_module_version": "1.5.0",
          "state": {
            "_dom_classes": [],
            "_model_module": "@jupyter-widgets/controls",
            "_model_module_version": "1.5.0",
            "_model_name": "FloatSliderModel",
            "_view_count": null,
            "_view_module": "@jupyter-widgets/controls",
            "_view_module_version": "1.5.0",
            "_view_name": "FloatSliderView",
            "continuous_update": true,
            "description": "b:",
            "description_tooltip": null,
            "disabled": false,
            "layout": "IPY_MODEL_6ead83a0576140758b6987800a98228a",
            "max": 10,
            "min": -10,
            "orientation": "horizontal",
            "readout": true,
            "readout_format": ".2f",
            "step": 0.1,
            "style": "IPY_MODEL_24b7c003382042229e049cc7ccd6e151",
            "value": 0
          }
        },
        "bfba06e9a8fb404094fe1f00dada0491": {
          "model_module": "@jupyter-widgets/output",
          "model_name": "OutputModel",
          "model_module_version": "1.0.0",
          "state": {
            "_dom_classes": [],
            "_model_module": "@jupyter-widgets/output",
            "_model_module_version": "1.0.0",
            "_model_name": "OutputModel",
            "_view_count": null,
            "_view_module": "@jupyter-widgets/output",
            "_view_module_version": "1.0.0",
            "_view_name": "OutputView",
            "layout": "IPY_MODEL_e5bbf9b94a39451e91c0d1eb28a77eba",
            "msg_id": "",
            "outputs": [
              {
                "output_type": "stream",
                "name": "stdout",
                "text": [
                  "The MSE cost is: 0.00\n"
                ]
              },
              {
                "output_type": "display_data",
                "data": {
                  "text/plain": "<Figure size 640x480 with 1 Axes>",
                  "image/png": "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\n"
                },
                "metadata": {}
              }
            ]
          }
        },
        "e1589a2ab6e04b8f8d1e6456815dd546": {
          "model_module": "@jupyter-widgets/base",
          "model_name": "LayoutModel",
          "model_module_version": "1.2.0",
          "state": {
            "_model_module": "@jupyter-widgets/base",
            "_model_module_version": "1.2.0",
            "_model_name": "LayoutModel",
            "_view_count": null,
            "_view_module": "@jupyter-widgets/base",
            "_view_module_version": "1.2.0",
            "_view_name": "LayoutView",
            "align_content": null,
            "align_items": null,
            "align_self": null,
            "border": null,
            "bottom": null,
            "display": null,
            "flex": null,
            "flex_flow": null,
            "grid_area": null,
            "grid_auto_columns": null,
            "grid_auto_flow": null,
            "grid_auto_rows": null,
            "grid_column": null,
            "grid_gap": null,
            "grid_row": null,
            "grid_template_areas": null,
            "grid_template_columns": null,
            "grid_template_rows": null,
            "height": null,
            "justify_content": null,
            "justify_items": null,
            "left": null,
            "margin": null,
            "max_height": null,
            "max_width": null,
            "min_height": null,
            "min_width": null,
            "object_fit": null,
            "object_position": null,
            "order": null,
            "overflow": null,
            "overflow_x": null,
            "overflow_y": null,
            "padding": null,
            "right": null,
            "top": null,
            "visibility": null,
            "width": null
          }
        },
        "970e801f222f4c31806b02d395baf6f1": {
          "model_module": "@jupyter-widgets/base",
          "model_name": "LayoutModel",
          "model_module_version": "1.2.0",
          "state": {
            "_model_module": "@jupyter-widgets/base",
            "_model_module_version": "1.2.0",
            "_model_name": "LayoutModel",
            "_view_count": null,
            "_view_module": "@jupyter-widgets/base",
            "_view_module_version": "1.2.0",
            "_view_name": "LayoutView",
            "align_content": null,
            "align_items": null,
            "align_self": null,
            "border": null,
            "bottom": null,
            "display": null,
            "flex": null,
            "flex_flow": null,
            "grid_area": null,
            "grid_auto_columns": null,
            "grid_auto_flow": null,
            "grid_auto_rows": null,
            "grid_column": null,
            "grid_gap": null,
            "grid_row": null,
            "grid_template_areas": null,
            "grid_template_columns": null,
            "grid_template_rows": null,
            "height": null,
            "justify_content": null,
            "justify_items": null,
            "left": null,
            "margin": null,
            "max_height": null,
            "max_width": null,
            "min_height": null,
            "min_width": null,
            "object_fit": null,
            "object_position": null,
            "order": null,
            "overflow": null,
            "overflow_x": null,
            "overflow_y": null,
            "padding": null,
            "right": null,
            "top": null,
            "visibility": null,
            "width": null
          }
        },
        "f4ff21515d45480a9694f277b02d3c8b": {
          "model_module": "@jupyter-widgets/controls",
          "model_name": "SliderStyleModel",
          "model_module_version": "1.5.0",
          "state": {
            "_model_module": "@jupyter-widgets/controls",
            "_model_module_version": "1.5.0",
            "_model_name": "SliderStyleModel",
            "_view_count": null,
            "_view_module": "@jupyter-widgets/base",
            "_view_module_version": "1.2.0",
            "_view_name": "StyleView",
            "description_width": "",
            "handle_color": null
          }
        },
        "6ead83a0576140758b6987800a98228a": {
          "model_module": "@jupyter-widgets/base",
          "model_name": "LayoutModel",
          "model_module_version": "1.2.0",
          "state": {
            "_model_module": "@jupyter-widgets/base",
            "_model_module_version": "1.2.0",
            "_model_name": "LayoutModel",
            "_view_count": null,
            "_view_module": "@jupyter-widgets/base",
            "_view_module_version": "1.2.0",
            "_view_name": "LayoutView",
            "align_content": null,
            "align_items": null,
            "align_self": null,
            "border": null,
            "bottom": null,
            "display": null,
            "flex": null,
            "flex_flow": null,
            "grid_area": null,
            "grid_auto_columns": null,
            "grid_auto_flow": null,
            "grid_auto_rows": null,
            "grid_column": null,
            "grid_gap": null,
            "grid_row": null,
            "grid_template_areas": null,
            "grid_template_columns": null,
            "grid_template_rows": null,
            "height": null,
            "justify_content": null,
            "justify_items": null,
            "left": null,
            "margin": null,
            "max_height": null,
            "max_width": null,
            "min_height": null,
            "min_width": null,
            "object_fit": null,
            "object_position": null,
            "order": null,
            "overflow": null,
            "overflow_x": null,
            "overflow_y": null,
            "padding": null,
            "right": null,
            "top": null,
            "visibility": null,
            "width": null
          }
        },
        "24b7c003382042229e049cc7ccd6e151": {
          "model_module": "@jupyter-widgets/controls",
          "model_name": "SliderStyleModel",
          "model_module_version": "1.5.0",
          "state": {
            "_model_module": "@jupyter-widgets/controls",
            "_model_module_version": "1.5.0",
            "_model_name": "SliderStyleModel",
            "_view_count": null,
            "_view_module": "@jupyter-widgets/base",
            "_view_module_version": "1.2.0",
            "_view_name": "StyleView",
            "description_width": "",
            "handle_color": null
          }
        },
        "e5bbf9b94a39451e91c0d1eb28a77eba": {
          "model_module": "@jupyter-widgets/base",
          "model_name": "LayoutModel",
          "model_module_version": "1.2.0",
          "state": {
            "_model_module": "@jupyter-widgets/base",
            "_model_module_version": "1.2.0",
            "_model_name": "LayoutModel",
            "_view_count": null,
            "_view_module": "@jupyter-widgets/base",
            "_view_module_version": "1.2.0",
            "_view_name": "LayoutView",
            "align_content": null,
            "align_items": null,
            "align_self": null,
            "border": null,
            "bottom": null,
            "display": null,
            "flex": null,
            "flex_flow": null,
            "grid_area": null,
            "grid_auto_columns": null,
            "grid_auto_flow": null,
            "grid_auto_rows": null,
            "grid_column": null,
            "grid_gap": null,
            "grid_row": null,
            "grid_template_areas": null,
            "grid_template_columns": null,
            "grid_template_rows": null,
            "height": null,
            "justify_content": null,
            "justify_items": null,
            "left": null,
            "margin": null,
            "max_height": null,
            "max_width": null,
            "min_height": null,
            "min_width": null,
            "object_fit": null,
            "object_position": null,
            "order": null,
            "overflow": null,
            "overflow_x": null,
            "overflow_y": null,
            "padding": null,
            "right": null,
            "top": null,
            "visibility": null,
            "width": null
          }
        }
      }
    }
  },
  "cells": [
    {
      "cell_type": "markdown",
      "metadata": {
        "id": "view-in-github",
        "colab_type": "text"
      },
      "source": [
        "<a href=\"https://colab.research.google.com/github/VidushiSharma31/ML-DL/blob/main/Regression/Linear/cost_function.ipynb\" target=\"_parent\"><img src=\"https://colab.research.google.com/assets/colab-badge.svg\" alt=\"Open In Colab\"/></a>"
      ]
    },
    {
      "cell_type": "code",
      "execution_count": 21,
      "metadata": {
        "id": "XG0QNFZMctMR"
      },
      "outputs": [],
      "source": [
        "import numpy as np\n",
        "import matplotlib.pyplot as plt\n",
        "from ipywidgets import interact, FloatSlider"
      ]
    },
    {
      "cell_type": "code",
      "source": [
        "# Example synthetic dataset\n",
        "X = np.array([1, 2, 3, 4, 5])\n",
        "y = np.array([2, 4, 6, 8, 10])  # y = 2x"
      ],
      "metadata": {
        "id": "5jbTxs-6dM_O"
      },
      "execution_count": 22,
      "outputs": []
    },
    {
      "cell_type": "code",
      "source": [
        "def compute_cost(x, y, w, b):\n",
        "  \"\"\"\n",
        "  Computes the cost function for linear regression.\n",
        "\n",
        "  Args:\n",
        "  x (ndarray): (m,): Data, m examples\n",
        "  y (ndarray): (m,): target values\n",
        "  w, b (scalar): model parameters\n",
        "\n",
        "  Returns:\n",
        "  total_cost (float): The cost of using w, b as the parameters for linear regression\n",
        "      to fit the data points in x and y\n",
        "  \"\"\"\n",
        "  #number of training examples\n",
        "  m = x.shape[0]\n",
        "\n",
        "  cost_sum = 0\n",
        "  for i in range(m):\n",
        "    f_wb = w * x[i] + b\n",
        "    cost = (f_wb - y[i]) ** 2\n",
        "    cost_sum += cost\n",
        "  total_cost = (1 / (2 * m)) * cost_sum\n",
        "\n",
        "  return total_cost"
      ],
      "metadata": {
        "id": "pvr-MYpUdcNh"
      },
      "execution_count": 23,
      "outputs": []
    },
    {
      "cell_type": "code",
      "metadata": {
        "id": "9b914660"
      },
      "source": [
        "# Create sliders for w and b\n",
        "w = FloatSlider(min=-10, max=10, step=0.1, description='w:')\n",
        "b = FloatSlider(min=-10, max=10, step=0.1, description='b:')"
      ],
      "execution_count": 24,
      "outputs": []
    },
    {
      "cell_type": "code",
      "metadata": {
        "colab": {
          "base_uri": "https://localhost:8080/",
          "height": 530,
          "referenced_widgets": [
            "ab91dd0ec2cb45ee8bae114a81bc9cd8",
            "8b093c34fb864473b1f16e553961c6bc",
            "7a0cdd2ccabf4b89a672c20b36d4c70e",
            "bfba06e9a8fb404094fe1f00dada0491",
            "e1589a2ab6e04b8f8d1e6456815dd546",
            "970e801f222f4c31806b02d395baf6f1",
            "f4ff21515d45480a9694f277b02d3c8b",
            "6ead83a0576140758b6987800a98228a",
            "24b7c003382042229e049cc7ccd6e151",
            "e5bbf9b94a39451e91c0d1eb28a77eba"
          ]
        },
        "id": "6e218916",
        "outputId": "9fac68b3-401b-4838-faf6-32489c3fcf00"
      },
      "source": [
        "def update_cost(w, b):\n",
        "  \"\"\"\n",
        "  Updates and displays the cost based on slider values.\n",
        "  \"\"\"\n",
        "  total_cost = compute_cost(X, y, w, b)\n",
        "  print(f\"The MSE cost is: {total_cost:.2f}\")\n",
        "  plt.scatter(X, y, marker='x', c='r')\n",
        "  plt.plot(X, w * X + b, c='b')\n",
        "  plt.xlabel(\"x\")\n",
        "  plt.ylabel(\"y\")\n",
        "  plt.show()\n",
        "\n",
        "interact(update_cost, w=w, b=b);"
      ],
      "execution_count": 26,
      "outputs": [
        {
          "output_type": "display_data",
          "data": {
            "text/plain": [
              "interactive(children=(FloatSlider(value=2.0, description='w:', max=10.0, min=-10.0), FloatSlider(value=0.0, de…"
            ],
            "application/vnd.jupyter.widget-view+json": {
              "version_major": 2,
              "version_minor": 0,
              "model_id": "ab91dd0ec2cb45ee8bae114a81bc9cd8"
            }
          },
          "metadata": {}
        }
      ]
    }
  ]
}