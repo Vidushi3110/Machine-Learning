{
  "nbformat": 4,
  "nbformat_minor": 0,
  "metadata": {
    "colab": {
      "provenance": [],
      "authorship_tag": "ABX9TyPKFQjQ+SCBpgwOMzxZvjW3",
      "include_colab_link": true
    },
    "kernelspec": {
      "name": "python3",
      "display_name": "Python 3"
    },
    "language_info": {
      "name": "python"
    }
  },
  "cells": [
    {
      "cell_type": "markdown",
      "metadata": {
        "id": "view-in-github",
        "colab_type": "text"
      },
      "source": [
        "<a href=\"https://colab.research.google.com/github/VidushiSharma31/ML-DL/blob/main/Regression/Linear/cost_function.ipynb\" target=\"_parent\"><img src=\"https://colab.research.google.com/assets/colab-badge.svg\" alt=\"Open In Colab\"/></a>"
      ]
    },
    {
      "cell_type": "markdown",
      "metadata": {
        "id": "fba96805"
      },
      "source": [
        "# Linear Regression with Interactive Cost Visualization"
      ]
    },
    {
      "cell_type": "markdown",
      "metadata": {
        "id": "66e9aaea"
      },
      "source": [
        "This cell imports the necessary libraries: `numpy` for numerical operations, `matplotlib.pyplot` for plotting, and `ipywidgets` for creating interactive elements like sliders."
      ]
    },
    {
      "cell_type": "code",
      "execution_count": 21,
      "metadata": {
        "id": "XG0QNFZMctMR"
      },
      "outputs": [],
      "source": [
        "import numpy as np\n",
        "import matplotlib.pyplot as plt\n",
        "from ipywidgets import interact, FloatSlider"
      ]
    },
    {
      "cell_type": "markdown",
      "metadata": {
        "id": "23f9d5a3"
      },
      "source": [
        "This cell defines a simple synthetic dataset with `X` as the input features and `y` as the target values. In this case, `y` is directly proportional to `X` (y = 2x)."
      ]
    },
    {
      "cell_type": "code",
      "source": [
        "# Example synthetic dataset\n",
        "X = np.array([1, 2, 3, 4, 5])\n",
        "y = np.array([2, 4, 6, 8, 10])  # y = 2x"
      ],
      "metadata": {
        "id": "5jbTxs-6dM_O"
      },
      "execution_count": 22,
      "outputs": []
    },
    {
      "cell_type": "markdown",
      "metadata": {
        "id": "fab5a653"
      },
      "source": [
        "This cell defines the `compute_cost` function, which calculates the Mean Squared Error (MSE) cost for a given set of data points (`x`, `y`), and model parameters (`w` and `b`). The formula used is:\n",
        "\n",
        "$J(w,b) = \\frac{1}{2m} \\sum_{i=0}^{m-1} (f_{w,b}(x^{(i)}) - y^{(i)})^2$\n",
        "\n",
        "where $f_{w,b}(x^{(i)}) = wx^{(i)} + b$ is the predicted value for the $i$-th example, $y^{(i)}$ is the actual target value, and $m$ is the number of training examples."
      ]
    },
    {
      "cell_type": "code",
      "source": [
        "def compute_cost(x, y, w, b):\n",
        "  \"\"\"\n",
        "  Computes the cost function for linear regression.\n",
        "\n",
        "  Args:\n",
        "  x (ndarray): (m,): Data, m examples\n",
        "  y (ndarray): (m,): target values\n",
        "  w, b (scalar): model parameters\n",
        "\n",
        "  Returns:\n",
        "  total_cost (float): The cost of using w, b as the parameters for linear regression\n",
        "      to fit the data points in x and y\n",
        "  \"\"\"\n",
        "  #number of training examples\n",
        "  m = x.shape[0]\n",
        "\n",
        "  cost_sum = 0\n",
        "  for i in range(m):\n",
        "    f_wb = w * x[i] + b\n",
        "    cost = (f_wb - y[i]) ** 2\n",
        "    cost_sum += cost\n",
        "  total_cost = (1 / (2 * m)) * cost_sum\n",
        "\n",
        "  return total_cost"
      ],
      "metadata": {
        "id": "pvr-MYpUdcNh"
      },
      "execution_count": 23,
      "outputs": []
    },
    {
      "cell_type": "markdown",
      "metadata": {
        "id": "d51d9a18"
      },
      "source": [
        "This cell creates interactive `FloatSlider` widgets for the variables `w` (weight) and `b` (bias). These sliders allow you to manipulate the values of `w` and `b` interactively."
      ]
    },
    {
      "cell_type": "code",
      "metadata": {
        "id": "9b914660"
      },
      "source": [
        "# Create sliders for w and b\n",
        "w = FloatSlider(min=-10, max=10, step=0.1, description='w:')\n",
        "b = FloatSlider(min=-10, max=10, step=0.1, description='b:')"
      ],
      "execution_count": 24,
      "outputs": []
    },
    {
      "cell_type": "markdown",
      "metadata": {
        "id": "cdbd7343"
      },
      "source": [
        "This cell defines the `update_cost` function, which takes the values of `w` and `b` from the sliders, computes the cost using the `compute_cost` function, and prints the result. It also plots the data points and the linear regression line defined by the current `w` and `b` values. The `interact` function links the `update_cost` function to the sliders, so the cost and the plot update automatically when the slider values are changed."
      ]
    },
    {
      "cell_type": "code",
      "metadata": {
        "collapsed": true,
        "id": "6e218916"
      },
      "source": [
        "def update_cost(w, b):\n",
        "  \"\"\"\n",
        "  Updates and displays the cost based on slider values.\n",
        "  \"\"\"\n",
        "  total_cost = compute_cost(X, y, w, b)\n",
        "  print(f\"The MSE cost is: {total_cost:.2f}\")\n",
        "  plt.scatter(X, y, marker='x', c='r')\n",
        "  plt.plot(X, w * X + b, c='b')\n",
        "  plt.xlabel(\"x\")\n",
        "  plt.ylabel(\"y\")\n",
        "  plt.show()\n",
        "\n",
        "interact(update_cost, w=w, b=b);"
      ],
      "execution_count": null,
      "outputs": []
    }
  ]
}