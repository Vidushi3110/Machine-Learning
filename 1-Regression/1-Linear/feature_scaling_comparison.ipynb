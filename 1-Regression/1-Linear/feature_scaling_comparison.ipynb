{
  "nbformat": 4,
  "nbformat_minor": 0,
  "metadata": {
    "colab": {
      "provenance": [],
      "authorship_tag": "ABX9TyPTOXJYyTjZjEvnwANsDU4u",
      "include_colab_link": true
    },
    "kernelspec": {
      "name": "python3",
      "display_name": "Python 3"
    },
    "language_info": {
      "name": "python"
    }
  },
  "cells": [
    {
      "cell_type": "markdown",
      "metadata": {
        "id": "view-in-github",
        "colab_type": "text"
      },
      "source": [
        "<a href=\"https://colab.research.google.com/github/VidushiSharma31/Machine-Learning/blob/main/1-Regression/1-Linear/feature_scaling_comparison.ipynb\" target=\"_parent\"><img src=\"https://colab.research.google.com/assets/colab-badge.svg\" alt=\"Open In Colab\"/></a>"
      ]
    },
    {
      "cell_type": "markdown",
      "metadata": {
        "id": "d4cfde4c"
      },
      "source": [
        "# Linear Regression with feature scaling on California Housing Price dataset\n",
        "\n",
        "This notebook demonstrates how feature scaling affects output of Linear Regression model.\n",
        "\n",
        "Dataset used: California housing prices from the scikit-learn library."
      ]
    },
    {
      "cell_type": "markdown",
      "metadata": {
        "id": "54e8f8d4"
      },
      "source": [
        "### 1. Import Libraries\n",
        "\n",
        "Import the necessary libraries for data manipulation, model building, and evaluation."
      ]
    },
    {
      "cell_type": "code",
      "execution_count": 1,
      "metadata": {
        "id": "cwoCo3FMBRwM"
      },
      "outputs": [],
      "source": [
        "import pandas as pd\n",
        "import numpy as np\n",
        "import matplotlib.pyplot as plt\n",
        "from sklearn.datasets import fetch_california_housing\n",
        "from sklearn.model_selection import train_test_split\n",
        "from sklearn.preprocessing import StandardScaler\n",
        "from sklearn.linear_model import LinearRegression\n",
        "from sklearn.metrics import mean_squared_error, r2_score"
      ]
    },
    {
      "cell_type": "markdown",
      "metadata": {
        "id": "8c396160"
      },
      "source": [
        "### 2. Load the Dataset\n",
        "\n",
        "Load the California Housing dataset from scikit-learn."
      ]
    },
    {
      "cell_type": "code",
      "source": [
        "housing = fetch_california_housing()"
      ],
      "metadata": {
        "id": "h9TMlL2qCavt"
      },
      "execution_count": 2,
      "outputs": []
    },
    {
      "cell_type": "markdown",
      "metadata": {
        "id": "975c3d99"
      },
      "source": [
        "### 3. Split the Data\n",
        "\n",
        "Split the dataset into training and testing sets."
      ]
    },
    {
      "cell_type": "code",
      "source": [
        "X_train, X_test, y_train, y_test = train_test_split(housing.data, housing.target, test_size=0.2, random_state=42)"
      ],
      "metadata": {
        "id": "taL8wZZ9CenW"
      },
      "execution_count": 3,
      "outputs": []
    },
    {
      "cell_type": "markdown",
      "metadata": {
        "id": "2c64acc3"
      },
      "source": [
        "### 4. Train and Evaluate Linear Regression Model\n",
        "\n",
        "Train a linear regression model on the original data and evaluate its performance using Mean Squared Error (MSE) and R-squared."
      ]
    },
    {
      "cell_type": "code",
      "source": [
        "model = LinearRegression()\n",
        "model.fit(X_train, y_train)\n",
        "y_pred = model.predict(X_test)\n",
        "mse = mean_squared_error(y_test, y_pred)\n",
        "r2 = r2_score(y_test, y_pred)\n",
        "print(\"Mean Squared Error:\", mse)\n",
        "print(\"R-squared:\", r2)"
      ],
      "metadata": {
        "colab": {
          "base_uri": "https://localhost:8080/"
        },
        "id": "WMiaYCipCn49",
        "outputId": "640001ce-9f5e-4a09-9d3e-68999eb5a5c8"
      },
      "execution_count": 4,
      "outputs": [
        {
          "output_type": "stream",
          "name": "stdout",
          "text": [
            "Mean Squared Error: 0.5558915986952422\n",
            "R-squared: 0.5757877060324524\n"
          ]
        }
      ]
    },
    {
      "cell_type": "markdown",
      "metadata": {
        "id": "95c74a6f"
      },
      "source": [
        "### 5. Scale the Data\n",
        "\n",
        "Scale the features using StandardScaler."
      ]
    },
    {
      "cell_type": "code",
      "source": [
        "scaler = StandardScaler()\n",
        "X_train_scaled = scaler.fit_transform(X_train)\n",
        "X_test_scaled = scaler.transform(X_test)"
      ],
      "metadata": {
        "id": "AybxEhmNC7gC"
      },
      "execution_count": 5,
      "outputs": []
    },
    {
      "cell_type": "markdown",
      "metadata": {
        "id": "f5a43ce0"
      },
      "source": [
        "### 6. Train and Evaluate Scaled Linear Regression Model\n",
        "\n",
        "Train a linear regression model on the scaled data and evaluate its performance."
      ]
    },
    {
      "cell_type": "code",
      "source": [
        "scaled_model = LinearRegression()\n",
        "scaled_model.fit(X_train_scaled, y_train)\n",
        "scaled_y_pred = scaled_model.predict(X_test_scaled)"
      ],
      "metadata": {
        "id": "eCRjlodpEBuX"
      },
      "execution_count": 6,
      "outputs": []
    },
    {
      "cell_type": "markdown",
      "metadata": {
        "id": "bef8c68e"
      },
      "source": [
        "### 7. Compare Results\n",
        "\n",
        "Compare the performance metrics (MSE and R-squared) of the model trained on the original data versus the scaled data."
      ]
    },
    {
      "cell_type": "code",
      "source": [
        "mse_scaled = mean_squared_error(y_test, scaled_y_pred)\n",
        "r2_scaled = r2_score(y_test, scaled_y_pred)\n",
        "print(\"Scaled Mean Squared Error:\", mse_scaled)\n",
        "print(\"Scaled R-squared:\", r2_scaled)"
      ],
      "metadata": {
        "colab": {
          "base_uri": "https://localhost:8080/"
        },
        "id": "afXo8KVjESgz",
        "outputId": "b0b56de7-e742-4f47-f236-5a1584efa6d8"
      },
      "execution_count": 8,
      "outputs": [
        {
          "output_type": "stream",
          "name": "stdout",
          "text": [
            "Scaled Mean Squared Error: 0.5558915986952442\n",
            "Scaled R-squared: 0.575787706032451\n"
          ]
        }
      ]
    },
    {
      "cell_type": "markdown",
      "metadata": {
        "id": "35690270"
      },
      "source": [
        "### Why Scaling Didn't Affect Linear Regression\n",
        "\n",
        "In this specific case, scaling the features using `StandardScaler` did not significantly change the Mean Squared Error (MSE) and R-squared values of the linear regression model. This is because linear regression finds the best-fitting line (or hyperplane) to the data. Scaling the features essentially stretches or compresses the axes but does not alter the fundamental linear relationship between the features and the target variable. The relative positions of the data points remain the same, so the best-fitting line relative to the scaled axes is equivalent to the best-fitting line relative to the original axes, just scaled accordingly.\n",
        "\n",
        "Scaling is typically more impactful for algorithms that are sensitive to the magnitude of features or use distance metrics, such as gradient descent-based algorithms, Support Vector Machines (SVMs), K-Nearest Neighbors (KNN), and Principal Component Analysis (PCA)."
      ]
    }
  ]
}